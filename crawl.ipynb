{
 "cells": [
  {
   "cell_type": "markdown",
   "metadata": {},
   "source": [
    "# Crawl\n",
    "\n",
    "This notebook contains an implementation of Crawl, an experimental graph-based method for building recommender systems."
   ]
  },
  {
   "cell_type": "markdown",
   "metadata": {},
   "source": [
    "## What does this algorithm do?\n",
    "\n",
    "The algorithm takes a set of items as input and outputs an extension of this set that contains additional items which are most likely to belong to it, based on previous transaction data."
   ]
  },
  {
   "cell_type": "markdown",
   "metadata": {},
   "source": [
    "## Sampling the dataset\n",
    "\n",
    "In this demonstration, the transaction data is playlists belonging to the [Spotify Million Playlist Dataset](https://www.aicrowd.com/challenges/spotify-million-playlist-dataset-challenge), and the items are artists.\n",
    "\n",
    "Since the original dataset is 1 million playlists long, we will select a random sample of 100 thousand playlists for running our experiment."
   ]
  },
  {
   "cell_type": "code",
   "execution_count": 1,
   "metadata": {},
   "outputs": [],
   "source": [
    "import json"
   ]
  },
  {
   "cell_type": "code",
   "execution_count": 2,
   "metadata": {},
   "outputs": [],
   "source": [
    "data_file = open(\"extended-data/filtered-data.json\")\n",
    "data = json.load(data_file)\n",
    "info_file = open(\"extended-data/artist-info.json\")\n",
    "info = json.load(info_file)"
   ]
  },
  {
   "cell_type": "code",
   "execution_count": 3,
   "metadata": {},
   "outputs": [],
   "source": [
    "TOTAL_PLAYLISTS = len(data)\n",
    "NUM_ARTISTS = len(info)"
   ]
  },
  {
   "cell_type": "code",
   "execution_count": 4,
   "metadata": {},
   "outputs": [],
   "source": [
    "NUM_PLAYLISTS = 100000"
   ]
  },
  {
   "cell_type": "code",
   "execution_count": 5,
   "metadata": {},
   "outputs": [],
   "source": [
    "import random"
   ]
  },
  {
   "cell_type": "code",
   "execution_count": 6,
   "metadata": {},
   "outputs": [],
   "source": [
    "random.seed(30)"
   ]
  },
  {
   "cell_type": "code",
   "execution_count": 7,
   "metadata": {},
   "outputs": [],
   "source": [
    "select = []\n",
    "for i in range(TOTAL_PLAYLISTS):\n",
    "    select.append(i)\n",
    "select = random.sample(select, NUM_PLAYLISTS)\n",
    "sample = []\n",
    "for i in select:\n",
    "    sample.append(data[i])"
   ]
  },
  {
   "cell_type": "markdown",
   "metadata": {},
   "source": [
    "## Constructing the similarity graph\n",
    "\n",
    "The next step is to construct the similarity graph.  \n",
    "The vertices of this graph represent artists and the weights of each edge denotes the similarity of the two artists, which is denoted by a measure we have devised called modified-lift.\n",
    "\n",
    "$$modified-lift(A, B) = \\frac{support(\\{A, B\\})}{\\sqrt{support(\\{A\\}) * support(\\{B\\})}}$$\n",
    "\n",
    "Edges are only constructed between the most similar artists - the limit is defined by the `WEIGHT_THRESHOLD` hyperparameter.  \n",
    "Since the entire complete graph cannot be constructed at once and pruned, it is constructed batch wise.  \n",
    "The `BATCH_SIZE` hyperparameter is used to control this batch size.  \n",
    "In order to prevent cases os isolated vertices and vertices with too many edges, the `MIN_DEGREE` and `MAX_DEGREE` hyperparameters have been introduced."
   ]
  },
  {
   "cell_type": "code",
   "execution_count": 8,
   "metadata": {},
   "outputs": [],
   "source": [
    "BATCH_SIZE = 1000\n",
    "WEIGHT_THRESHOLD = 0.2\n",
    "MIN_DEGREE = 5\n",
    "MAX_DEGREE = 50"
   ]
  },
  {
   "cell_type": "code",
   "execution_count": 9,
   "metadata": {},
   "outputs": [],
   "source": [
    "count = []\n",
    "for i in range(NUM_ARTISTS):\n",
    "    count.append(0)\n",
    "for playlist in sample:\n",
    "    for item in playlist:\n",
    "        count[item] += 1"
   ]
  },
  {
   "cell_type": "code",
   "execution_count": 10,
   "metadata": {},
   "outputs": [],
   "source": [
    "def init_graph(graph):\n",
    "    for _ in range(NUM_ARTISTS):\n",
    "        graph.append([])"
   ]
  },
  {
   "cell_type": "code",
   "execution_count": 11,
   "metadata": {},
   "outputs": [],
   "source": [
    "def build_graph(graph, start, end):\n",
    "    sub = []\n",
    "    for i in range(start, end):\n",
    "        sub.append([])\n",
    "        for j in range(NUM_ARTISTS):\n",
    "            sub[i - start].append([0, j])\n",
    "    for playlist in sample:\n",
    "        for item in playlist:\n",
    "            if (item >= start) and (item < end):\n",
    "                for comp in playlist:\n",
    "                    sub[item - start][comp][0] += 1\n",
    "    for i in range(start, end):\n",
    "        for j in range(NUM_ARTISTS):\n",
    "            sub[i - start][j][0] /= (count[i] * count[j]) ** 0.5\n",
    "        sub[i - start] = sorted(sub[i - start], reverse=True)\n",
    "        for j in range(len(sub[i - start])):\n",
    "            if ((sub[i - start][j][0] >= WEIGHT_THRESHOLD) or (j < MIN_DEGREE)) and (j < MAX_DEGREE):\n",
    "                graph[i].append(sub[i - start][j])\n",
    "            else:\n",
    "                break"
   ]
  },
  {
   "cell_type": "code",
   "execution_count": 12,
   "metadata": {},
   "outputs": [],
   "source": [
    "graph = []\n",
    "init_graph(graph)\n",
    "for start in range(0, NUM_ARTISTS, BATCH_SIZE):\n",
    "    build_graph(graph, start, min(start + BATCH_SIZE, NUM_ARTISTS))"
   ]
  },
  {
   "cell_type": "markdown",
   "metadata": {},
   "source": [
    "## Function for printing playlists"
   ]
  },
  {
   "cell_type": "code",
   "execution_count": 13,
   "metadata": {},
   "outputs": [],
   "source": [
    "def print_playlist(playlist):\n",
    "    for idx, item in enumerate(playlist):\n",
    "        print(f\"{idx + 1}:\\t{info[item]['name']}\")"
   ]
  },
  {
   "cell_type": "markdown",
   "metadata": {},
   "source": [
    "## The algorithm\n",
    "\n",
    "The algorithm works by running a modified version of the Dijkstra's algorithm for finding shortest paths from the vertices representing artists that are present in the original playlist.  \n",
    "The similarity of a path is considered to be the product of weights of its constituent edges.  \n",
    "This is analagous to how the distance of a path in traditional applications of shortest-path algorithms is considered to be the sum of the weights of its edges.  \n",
    "The algorithm also takes an optional argument called `weights`, which denotes the relative importance of each artist in the sample playlist."
   ]
  },
  {
   "cell_type": "code",
   "execution_count": 14,
   "metadata": {},
   "outputs": [],
   "source": [
    "import heapdict"
   ]
  },
  {
   "cell_type": "code",
   "execution_count": 15,
   "metadata": {},
   "outputs": [],
   "source": [
    "def extend(playlist, size, weights=[]):\n",
    "    playlist = playlist.copy()\n",
    "    if weights == []:\n",
    "        for _ in range(len(playlist)):\n",
    "            weights.append(1)\n",
    "    flag = []\n",
    "    for _ in range(NUM_ARTISTS):\n",
    "        flag.append(False)\n",
    "    for item in playlist:\n",
    "        flag[item] = True\n",
    "    pq = heapdict.heapdict()\n",
    "    for idx, item in enumerate(playlist):\n",
    "        for pair in graph[item]:\n",
    "            if not flag[pair[1]]:\n",
    "                if pair[1] in pq:\n",
    "                    if -pair[0] < pq[pair[1]]:\n",
    "                        pq[pair[1]] = -(pair[0] * weights[idx])\n",
    "                else:\n",
    "                    pq[pair[1]] = -(pair[0] * weights[idx])\n",
    "    while (len(playlist) < size):\n",
    "        if len(pq) == 0:\n",
    "            break\n",
    "        next = list(pq.popitem())\n",
    "        next[1] = (-next[1]) ** 0.5\n",
    "        playlist.append(next[0])\n",
    "        flag[next[0]] = True\n",
    "        for pair in graph[next[0]]:\n",
    "            if not flag[pair[1]]:\n",
    "                if pair[1] in pq:\n",
    "                    if -(pair[0] * next[1]) < pq[pair[1]]:\n",
    "                        pq[pair[1]] = -(pair[0] * next[1])\n",
    "                else:\n",
    "                    pq[pair[1]] = -(pair[0] * next[1])\n",
    "    return playlist"
   ]
  },
  {
   "cell_type": "markdown",
   "metadata": {},
   "source": [
    "## Testing with EDM artists\n",
    "\n",
    "We now test the performance of the algorithm by providing it with a playlist of some artists belong to the genre of EDM (Electronic Dance Music).  \n",
    "Ideally, the algorithm must extend the playlist in such a way that other EDM artists are present at the top."
   ]
  },
  {
   "cell_type": "code",
   "execution_count": 16,
   "metadata": {},
   "outputs": [
    {
     "name": "stdout",
     "output_type": "stream",
     "text": [
      "1:\tAvicii\n",
      "2:\tMartin Garrix\n",
      "3:\tAlan Walker\n",
      "4:\tSwedish House Mafia\n",
      "5:\tArmin van Buuren\n"
     ]
    }
   ],
   "source": [
    "edm_playlist = [66, 90, 432, 466, 614]\n",
    "print_playlist(edm_playlist)"
   ]
  },
  {
   "cell_type": "code",
   "execution_count": 17,
   "metadata": {},
   "outputs": [
    {
     "name": "stdout",
     "output_type": "stream",
     "text": [
      "1:\tAvicii\n",
      "2:\tMartin Garrix\n",
      "3:\tAlan Walker\n",
      "4:\tSwedish House Mafia\n",
      "5:\tArmin van Buuren\n",
      "6:\tThe Chainsmokers\n",
      "7:\tZedd\n",
      "8:\tCalvin Harris\n",
      "9:\tMajor Lazer\n",
      "10:\tDavid Guetta\n",
      "11:\tDJ Snake\n",
      "12:\tHardwell\n",
      "13:\tTiësto\n",
      "14:\tGalantis\n",
      "15:\tKygo\n",
      "16:\tSteve Aoki\n",
      "17:\tKaskade\n",
      "18:\tSebastian Ingrosso\n",
      "19:\tJonas Blue\n",
      "20:\tAfrojack\n"
     ]
    }
   ],
   "source": [
    "extended_edm_playlist = extend(edm_playlist, 20)\n",
    "print_playlist(extended_edm_playlist)"
   ]
  },
  {
   "cell_type": "markdown",
   "metadata": {},
   "source": [
    "As you can see from the results, the algorithm does indeed add EDM artists.  \n",
    "It was able to correctly identify the nature of the sample playlist without being explicitly told about it, and by merely looking at transaction data."
   ]
  },
  {
   "cell_type": "markdown",
   "metadata": {},
   "source": [
    "## Testing with Country artists"
   ]
  },
  {
   "cell_type": "code",
   "execution_count": 18,
   "metadata": {},
   "outputs": [
    {
     "name": "stdout",
     "output_type": "stream",
     "text": [
      "1:\tFlorida Georgia Line\n",
      "2:\tBlake Shelton\n",
      "3:\tTim McGraw\n",
      "4:\tKeith Urban\n",
      "5:\tAlabama\n"
     ]
    }
   ],
   "source": [
    "country_playlist = [110, 167, 171, 177, 821]\n",
    "print_playlist(country_playlist)"
   ]
  },
  {
   "cell_type": "code",
   "execution_count": 19,
   "metadata": {},
   "outputs": [
    {
     "name": "stdout",
     "output_type": "stream",
     "text": [
      "1:\tFlorida Georgia Line\n",
      "2:\tBlake Shelton\n",
      "3:\tTim McGraw\n",
      "4:\tKeith Urban\n",
      "5:\tAlabama\n",
      "6:\tLuke Bryan\n",
      "7:\tDierks Bentley\n",
      "8:\tThomas Rhett\n",
      "9:\tJason Aldean\n",
      "10:\tKenny Chesney\n",
      "11:\tJake Owen\n",
      "12:\tEric Church\n",
      "13:\tChris Young\n",
      "14:\tLee Brice\n",
      "15:\tBrad Paisley\n",
      "16:\tCole Swindell\n",
      "17:\tBilly Currington\n",
      "18:\tSam Hunt\n",
      "19:\tBrett Eldredge\n",
      "20:\tZac Brown Band\n"
     ]
    }
   ],
   "source": [
    "extended_country_playlist = extend(country_playlist, 20)\n",
    "print_playlist(extended_country_playlist)"
   ]
  },
  {
   "cell_type": "markdown",
   "metadata": {},
   "source": [
    "## Testing with Hip-Hop and Latin artists"
   ]
  },
  {
   "cell_type": "code",
   "execution_count": 20,
   "metadata": {},
   "outputs": [
    {
     "name": "stdout",
     "output_type": "stream",
     "text": [
      "1:\tKanye West\n",
      "2:\tEminem\n",
      "3:\tShakira\n",
      "4:\tEnrique Iglesias\n",
      "5:\tJ Balvin\n"
     ]
    }
   ],
   "source": [
    "hiphop_latin_playlist = [2, 27, 112, 189, 281]\n",
    "print_playlist(hiphop_latin_playlist)"
   ]
  },
  {
   "cell_type": "code",
   "execution_count": 21,
   "metadata": {},
   "outputs": [
    {
     "name": "stdout",
     "output_type": "stream",
     "text": [
      "1:\tKanye West\n",
      "2:\tEminem\n",
      "3:\tShakira\n",
      "4:\tEnrique Iglesias\n",
      "5:\tJ Balvin\n",
      "6:\tDrake\n",
      "7:\tMaluma\n",
      "8:\tNicky Jam\n",
      "9:\tJAY Z\n",
      "10:\tKendrick Lamar\n",
      "11:\tBig Sean\n",
      "12:\tWisin\n",
      "13:\tDaddy Yankee\n",
      "14:\tLil Wayne\n",
      "15:\tFarruko\n",
      "16:\tJ. Cole\n",
      "17:\tZion & Lennox\n",
      "18:\tYandel\n",
      "19:\tFuture\n",
      "20:\tRae Sremmurd\n"
     ]
    }
   ],
   "source": [
    "extended_hiphop_latin_playlist = extend(hiphop_latin_playlist, 20)\n",
    "print_playlist(extended_hiphop_latin_playlist)"
   ]
  },
  {
   "cell_type": "markdown",
   "metadata": {},
   "source": [
    "## Testing with Hip-Hop and Latin artists but biased towards Hip-Hop"
   ]
  },
  {
   "cell_type": "code",
   "execution_count": 22,
   "metadata": {},
   "outputs": [
    {
     "name": "stdout",
     "output_type": "stream",
     "text": [
      "1:\tKanye West\n",
      "2:\tEminem\n",
      "3:\tShakira\n",
      "4:\tEnrique Iglesias\n",
      "5:\tJ Balvin\n",
      "6:\tFuture\n",
      "7:\tMigos\n",
      "8:\tLil Uzi Vert\n",
      "9:\t21 Savage\n",
      "10:\tKodak Black\n",
      "11:\tA Boogie Wit da Hoodie\n",
      "12:\tTravis Scott\n",
      "13:\tGucci Mane\n",
      "14:\tPost Malone\n",
      "15:\tPlayboi Carti\n",
      "16:\tYoung Thug\n",
      "17:\tRae Sremmurd\n",
      "18:\tBig Sean\n",
      "19:\tDrake\n",
      "20:\tKendrick Lamar\n"
     ]
    }
   ],
   "source": [
    "biased_hiphop_latin_playlist = extend(hiphop_latin_playlist, 20, [0.4, 0.3, 0.1, 0.1, 0.1])\n",
    "print_playlist(biased_hiphop_latin_playlist)"
   ]
  }
 ],
 "metadata": {
  "kernelspec": {
   "display_name": "Python 3",
   "language": "python",
   "name": "python3"
  },
  "language_info": {
   "codemirror_mode": {
    "name": "ipython",
    "version": 3
   },
   "file_extension": ".py",
   "mimetype": "text/x-python",
   "name": "python",
   "nbconvert_exporter": "python",
   "pygments_lexer": "ipython3",
   "version": "3.11.2"
  }
 },
 "nbformat": 4,
 "nbformat_minor": 2
}
