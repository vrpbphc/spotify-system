{
 "cells": [
  {
   "cell_type": "markdown",
   "metadata": {},
   "source": [
    "# Aggregate\n",
    "\n",
    "This notebook contains an implementation of Aggregate - an experimental method for building recommender systems based on computing a similarity matrix."
   ]
  },
  {
   "cell_type": "markdown",
   "metadata": {},
   "source": [
    "## What does this algorithm do?\n",
    "\n",
    "The algorithm takes a set of items as input and outputs an extension of this set that contains additional items which are most likely to belong to it, based on previous transaction data."
   ]
  },
  {
   "cell_type": "markdown",
   "metadata": {},
   "source": [
    "## Sampling the dataset\n",
    "\n",
    "In this demonstration, the transaction data is playlists belonging to the [Spotify Million Playlist Dataset](https://www.aicrowd.com/challenges/spotify-million-playlist-dataset-challenge), and the items are artists.\n",
    "\n",
    "Since the original dataset is 1 million playlists long, we will select a random sample of 100 thousand playlists for running our experiment."
   ]
  },
  {
   "cell_type": "code",
   "execution_count": 1,
   "metadata": {},
   "outputs": [],
   "source": [
    "import json"
   ]
  },
  {
   "cell_type": "markdown",
   "metadata": {},
   "source": [
    "`filtered-data.json` contains transaction data - the playlists.  \n",
    "`artist-info.json` contains meta-data about the artists - a mapping from artist ID to additional information such as their names."
   ]
  },
  {
   "cell_type": "code",
   "execution_count": 2,
   "metadata": {},
   "outputs": [],
   "source": [
    "data_file = open(\"preprocessed-data/filtered-data.json\")\n",
    "data = json.load(data_file)\n",
    "info_file = open(\"preprocessed-data/artist-info.json\")\n",
    "info = json.load(info_file)"
   ]
  },
  {
   "cell_type": "code",
   "execution_count": 3,
   "metadata": {},
   "outputs": [],
   "source": [
    "TOTAL_PLAYLISTS = len(data)\n",
    "NUM_ARTISTS = len(info)"
   ]
  },
  {
   "cell_type": "code",
   "execution_count": 4,
   "metadata": {},
   "outputs": [],
   "source": [
    "NUM_PLAYLISTS = 100000"
   ]
  },
  {
   "cell_type": "code",
   "execution_count": 5,
   "metadata": {},
   "outputs": [],
   "source": [
    "import random"
   ]
  },
  {
   "cell_type": "code",
   "execution_count": 6,
   "metadata": {},
   "outputs": [],
   "source": [
    "random.seed(30)"
   ]
  },
  {
   "cell_type": "code",
   "execution_count": 7,
   "metadata": {},
   "outputs": [],
   "source": [
    "selected_playlists = random.sample(range(TOTAL_PLAYLISTS), NUM_PLAYLISTS)\n",
    "sample = []\n",
    "for i in selected_playlists:\n",
    "    sample.append(data[i])"
   ]
  },
  {
   "cell_type": "markdown",
   "metadata": {},
   "source": [
    "## Constructing the similarity matrix\n",
    "\n",
    "The algorithm first scans transaction data to build a matrix, whose values denote the similarities between artists.  \n",
    "This value is represented by a measure we have devised called modified-lift, which we have also used in Crawl.\n",
    "\n",
    "$$modified-lift(A, B) = \\frac{support(\\{A, B\\})}{\\sqrt{support(\\{A\\}) * support(\\{B\\})}}$$"
   ]
  },
  {
   "cell_type": "code",
   "execution_count": 8,
   "metadata": {},
   "outputs": [],
   "source": [
    "mat = []\n",
    "for i in range(1000):\n",
    "    row = []\n",
    "    for j in range(1000):\n",
    "        row.append(0)\n",
    "    mat.append(row)"
   ]
  },
  {
   "cell_type": "code",
   "execution_count": 9,
   "metadata": {},
   "outputs": [],
   "source": [
    "for playlist in sample:\n",
    "    n = len(playlist)\n",
    "    for i in range(n):\n",
    "        for j in range(i):\n",
    "            mat[playlist[j]][playlist[i]] += 1\n",
    "            mat[playlist[i]][playlist[j]] += 1\n",
    "        mat[playlist[i]][playlist[i]] += 1\n",
    "for i in range(1000):\n",
    "    for j in range(1000):\n",
    "        if i != j:\n",
    "            mat[i][j] /= (mat[i][i] * mat[j][j]) ** 0.5\n",
    "for i in range(1000):\n",
    "    mat[i][i] = 1"
   ]
  },
  {
   "cell_type": "markdown",
   "metadata": {},
   "source": [
    "## The algorithm\n",
    "\n",
    "The array `scores` maintains the score of each item at any point of time - the summation of the modified-lift of that item with the items that are a part of playlist.  \n",
    "At each step, the algorithm greedily picks the unselected item with the highest score - or in other words, what the algorithm predicts to be the item most likely to belong to the set.  \n",
    "The scores of all the items are updated by adding the modified-left of each item with the item that has just been added.  \n",
    "The process repeats until all the artists are added to the playlist.  \n",
    "The array `selected` keeps track of which items are already a part of the playlist that is being constructed."
   ]
  },
  {
   "cell_type": "code",
   "execution_count": 10,
   "metadata": {},
   "outputs": [],
   "source": [
    "def init_scores(playlist):\n",
    "    score, selected = [], []\n",
    "    for i in range(1000):\n",
    "        score.append(0)\n",
    "        selected.append(False)\n",
    "    for item in playlist:\n",
    "        for i in range(1000):\n",
    "            score[i] += mat[item][i]\n",
    "        selected[item] = True\n",
    "    return score, selected"
   ]
  },
  {
   "cell_type": "code",
   "execution_count": 11,
   "metadata": {},
   "outputs": [],
   "source": [
    "def extend(playlist, size):\n",
    "    playlist = playlist.copy()\n",
    "    score, selected = init_scores(playlist)\n",
    "    while len(playlist) < size:\n",
    "        maxi, val = -1, -1\n",
    "        for i in range(1000):\n",
    "            if (not selected[i]) and (score[i] > val):\n",
    "                maxi = i\n",
    "                val = score[i]\n",
    "        playlist.append(maxi)\n",
    "        for i in range(1000):\n",
    "            score[i] += mat[maxi][i]\n",
    "        selected[maxi] = True\n",
    "    return playlist"
   ]
  },
  {
   "cell_type": "markdown",
   "metadata": {},
   "source": [
    "## Function for printing playlists"
   ]
  },
  {
   "cell_type": "code",
   "execution_count": 12,
   "metadata": {},
   "outputs": [],
   "source": [
    "def print_playlist(playlist):\n",
    "    for idx, item in enumerate(playlist):\n",
    "        print(f\"{idx + 1}:\\t{info[item]['name']}\")"
   ]
  },
  {
   "cell_type": "markdown",
   "metadata": {},
   "source": [
    "## Testing with Rock artists\n",
    "\n",
    "We now test the performance of the algorithm by providing it with a playlist of some artists belong to the genre of Rock.  \n",
    "Ideally, the algorithm must extend the playlist in such a way that other Rock artists are present at the top."
   ]
  },
  {
   "cell_type": "code",
   "execution_count": 13,
   "metadata": {},
   "outputs": [
    {
     "name": "stdout",
     "output_type": "stream",
     "text": [
      "1:\talt-J\n",
      "2:\tArctic Monkeys\n",
      "3:\tMGMT\n",
      "4:\tNirvana\n",
      "5:\tDire Straits\n"
     ]
    }
   ],
   "source": [
    "rock_playlist = [150, 155, 221, 239, 753]\n",
    "print_playlist(rock_playlist)"
   ]
  },
  {
   "cell_type": "code",
   "execution_count": 14,
   "metadata": {},
   "outputs": [
    {
     "name": "stdout",
     "output_type": "stream",
     "text": [
      "1:\talt-J\n",
      "2:\tArctic Monkeys\n",
      "3:\tMGMT\n",
      "4:\tNirvana\n",
      "5:\tDire Straits\n",
      "6:\tCage The Elephant\n",
      "7:\tThe Black Keys\n",
      "8:\tRed Hot Chili Peppers\n",
      "9:\tWeezer\n",
      "10:\tThe Killers\n",
      "11:\tThe White Stripes\n",
      "12:\tThe Strokes\n",
      "13:\tModest Mouse\n",
      "14:\tVampire Weekend\n",
      "15:\tTwo Door Cinema Club\n",
      "16:\tPhoenix\n",
      "17:\tFoster The People\n",
      "18:\tGrouplove\n",
      "19:\tPassion Pit\n",
      "20:\tYoung the Giant\n"
     ]
    }
   ],
   "source": [
    "extended_rock_playlist = extend(rock_playlist, 20)\n",
    "print_playlist(extended_rock_playlist)"
   ]
  },
  {
   "cell_type": "markdown",
   "metadata": {},
   "source": [
    "As you can see from the results, the algorithm does indeed add Rock artists.  \n",
    "It was able to correctly identify the nature of the sample playlist without being explicitly told about it, and by merely looking at transaction data."
   ]
  },
  {
   "cell_type": "markdown",
   "metadata": {},
   "source": [
    "## Testing with Pop artists"
   ]
  },
  {
   "cell_type": "code",
   "execution_count": 15,
   "metadata": {},
   "outputs": [
    {
     "name": "stdout",
     "output_type": "stream",
     "text": [
      "1:\tShawn Mendes\n",
      "2:\tZara Larsson\n",
      "3:\tMØ\n",
      "4:\tDua Lipa\n",
      "5:\tBillie Eilish\n"
     ]
    }
   ],
   "source": [
    "pop_playlist = [53, 165, 319, 538, 620]\n",
    "print_playlist(pop_playlist)"
   ]
  },
  {
   "cell_type": "code",
   "execution_count": 16,
   "metadata": {},
   "outputs": [
    {
     "name": "stdout",
     "output_type": "stream",
     "text": [
      "1:\tShawn Mendes\n",
      "2:\tZara Larsson\n",
      "3:\tMØ\n",
      "4:\tDua Lipa\n",
      "5:\tBillie Eilish\n",
      "6:\tThe Chainsmokers\n",
      "7:\tHailee Steinfeld\n",
      "8:\tKygo\n",
      "9:\tMajor Lazer\n",
      "10:\tCalvin Harris\n",
      "11:\tDJ Snake\n",
      "12:\tMartin Garrix\n",
      "13:\tZedd\n",
      "14:\tGalantis\n",
      "15:\tJonas Blue\n",
      "16:\tDavid Guetta\n",
      "17:\tCheat Codes\n",
      "18:\tClean Bandit\n",
      "19:\tSelena Gomez\n",
      "20:\tAriana Grande\n"
     ]
    }
   ],
   "source": [
    "extended_pop_playlist = extend(pop_playlist, 20)\n",
    "print_playlist(extended_pop_playlist)"
   ]
  },
  {
   "cell_type": "markdown",
   "metadata": {},
   "source": [
    "## Testing with Metal and Punk artists"
   ]
  },
  {
   "cell_type": "code",
   "execution_count": 17,
   "metadata": {},
   "outputs": [
    {
     "name": "stdout",
     "output_type": "stream",
     "text": [
      "1:\tGreen Day\n",
      "2:\tLed Zeppelin\n",
      "3:\tMy Chemical Romance\n",
      "4:\tMetallica\n",
      "5:\tBlack Sabbath\n"
     ]
    }
   ],
   "source": [
    "metal_punk_playlist = [156, 200, 355, 388, 705]\n",
    "print_playlist(metal_punk_playlist)"
   ]
  },
  {
   "cell_type": "code",
   "execution_count": 18,
   "metadata": {},
   "outputs": [
    {
     "name": "stdout",
     "output_type": "stream",
     "text": [
      "1:\tGreen Day\n",
      "2:\tLed Zeppelin\n",
      "3:\tMy Chemical Romance\n",
      "4:\tMetallica\n",
      "5:\tBlack Sabbath\n",
      "6:\tGuns N' Roses\n",
      "7:\tAerosmith\n",
      "8:\tAC/DC\n",
      "9:\tQueen\n",
      "10:\tVan Halen\n",
      "11:\tLynyrd Skynyrd\n",
      "12:\tKansas\n",
      "13:\tBoston\n",
      "14:\tThe Rolling Stones\n",
      "15:\tCreedence Clearwater Revival\n",
      "16:\tEagles\n",
      "17:\tThe Who\n",
      "18:\tSteve Miller Band\n",
      "19:\tBon Jovi\n",
      "20:\tJourney\n"
     ]
    }
   ],
   "source": [
    "extended_metal_punk_playlist = extend(metal_punk_playlist, 20)\n",
    "print_playlist(extended_metal_punk_playlist)"
   ]
  }
 ],
 "metadata": {
  "kernelspec": {
   "display_name": "Python 3",
   "language": "python",
   "name": "python3"
  },
  "language_info": {
   "codemirror_mode": {
    "name": "ipython",
    "version": 3
   },
   "file_extension": ".py",
   "mimetype": "text/x-python",
   "name": "python",
   "nbconvert_exporter": "python",
   "pygments_lexer": "ipython3",
   "version": "3.11.2"
  }
 },
 "nbformat": 4,
 "nbformat_minor": 2
}
