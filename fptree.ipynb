{
 "cells": [
  {
   "cell_type": "markdown",
   "metadata": {},
   "source": [
    "# FP-Tree\n",
    "\n",
    "This notebook contains an implementation of the FP-tree algorithm for association rule mining."
   ]
  },
  {
   "cell_type": "markdown",
   "metadata": {},
   "source": [
    "## Sampling the dataset\n",
    "\n",
    "In this demonstration, the transaction data is playlists belonging to the [Spotify Million Playlist Dataset](https://www.aicrowd.com/challenges/spotify-million-playlist-dataset-challenge), and the items are artists.\n",
    "\n",
    "Since the original dataset is 1 million playlists long, we will select a random sample of 1000 playlists for running our experiment."
   ]
  },
  {
   "cell_type": "code",
   "execution_count": 1,
   "metadata": {},
   "outputs": [],
   "source": [
    "import json"
   ]
  },
  {
   "cell_type": "code",
   "execution_count": 2,
   "metadata": {},
   "outputs": [],
   "source": [
    "data_file = open(\"preprocessed-data/filtered-data.json\")\n",
    "data = json.load(data_file)\n",
    "info_file = open(\"preprocessed-data/artist-info.json\")\n",
    "info = json.load(info_file)"
   ]
  },
  {
   "cell_type": "code",
   "execution_count": 3,
   "metadata": {},
   "outputs": [],
   "source": [
    "TOTAL_PLAYLISTS = len(data)\n",
    "NUM_ARTISTS = len(info)"
   ]
  },
  {
   "cell_type": "code",
   "execution_count": 4,
   "metadata": {},
   "outputs": [],
   "source": [
    "NUM_PLAYLISTS = 1000"
   ]
  },
  {
   "cell_type": "code",
   "execution_count": 5,
   "metadata": {},
   "outputs": [],
   "source": [
    "import random"
   ]
  },
  {
   "cell_type": "code",
   "execution_count": 6,
   "metadata": {},
   "outputs": [],
   "source": [
    "random.seed(30)"
   ]
  },
  {
   "cell_type": "code",
   "execution_count": 7,
   "metadata": {},
   "outputs": [],
   "source": [
    "selected_playlists = random.sample(range(TOTAL_PLAYLISTS), NUM_PLAYLISTS)\n",
    "sample = []\n",
    "for i in selected_playlists:\n",
    "    sample.append(data[i])"
   ]
  },
  {
   "cell_type": "markdown",
   "metadata": {},
   "source": [
    "## Constructing the tree"
   ]
  },
  {
   "cell_type": "code",
   "execution_count": 8,
   "metadata": {},
   "outputs": [],
   "source": [
    "class Node:\n",
    "    def __init__(self, artist):\n",
    "        self.artist = artist\n",
    "        self.freq = 0\n",
    "        self.next = None\n",
    "        self.down = []\n",
    "        self.visited = False"
   ]
  },
  {
   "cell_type": "code",
   "execution_count": 9,
   "metadata": {},
   "outputs": [],
   "source": [
    "pointers = []\n",
    "for i in range(NUM_ARTISTS):\n",
    "    pointers.append(Node(i))"
   ]
  },
  {
   "cell_type": "code",
   "execution_count": 10,
   "metadata": {},
   "outputs": [],
   "source": [
    "for i in range(NUM_PLAYLISTS):\n",
    "    playlist = sample[i]\n",
    "    active = None\n",
    "    for item in playlist:\n",
    "        if active is None:\n",
    "            active = pointers[item]\n",
    "            while active.next is not None:\n",
    "                active = active.next\n",
    "        else:\n",
    "            found = False\n",
    "            for child in active.down:\n",
    "                if child.artist == item:\n",
    "                    active = child\n",
    "                    found = True\n",
    "                    break\n",
    "            if not found:\n",
    "                new = Node(item)\n",
    "                new.next = pointers[item]\n",
    "                pointers[item] = new\n",
    "                active.down.append(new)\n",
    "                active = new\n",
    "        active.freq += 1"
   ]
  },
  {
   "cell_type": "markdown",
   "metadata": {},
   "source": [
    "## Finding conditional pattern bases"
   ]
  },
  {
   "cell_type": "code",
   "execution_count": 11,
   "metadata": {},
   "outputs": [],
   "source": [
    "patterns = []\n",
    "for i in range(NUM_ARTISTS):\n",
    "    patterns.append([])"
   ]
  },
  {
   "cell_type": "code",
   "execution_count": 12,
   "metadata": {},
   "outputs": [],
   "source": [
    "def dfs(active, base):\n",
    "    active.visited = True\n",
    "    patterns[active.artist].append((tuple(base), active.freq))\n",
    "    base.append(active.artist)\n",
    "    for child in active.down:\n",
    "        dfs(child, base)\n",
    "    base.pop()"
   ]
  },
  {
   "cell_type": "code",
   "execution_count": 13,
   "metadata": {},
   "outputs": [],
   "source": [
    "for i in range(NUM_ARTISTS):\n",
    "    active = pointers[i]\n",
    "    while active is not None:\n",
    "        if not active.visited:\n",
    "            dfs(active, [])\n",
    "        active = active.next"
   ]
  },
  {
   "cell_type": "markdown",
   "metadata": {},
   "source": [
    "## Generating the conditional FP-tree"
   ]
  },
  {
   "cell_type": "code",
   "execution_count": 14,
   "metadata": {},
   "outputs": [],
   "source": [
    "def conditional_gen(i):\n",
    "    freq = []\n",
    "    for j in range(i):\n",
    "        freq.append(0)\n",
    "    total = 0\n",
    "    for base, count in patterns[i]:\n",
    "        total += count\n",
    "        for item in base:\n",
    "            freq[item] += count\n",
    "    sub = []\n",
    "    for j in range(i):\n",
    "        if (total != 0) and ((freq[j] / total) >= 0.9):\n",
    "            sub.append(j)\n",
    "    return sub\n"
   ]
  },
  {
   "cell_type": "markdown",
   "metadata": {},
   "source": [
    "## Finding frequent patterns"
   ]
  },
  {
   "cell_type": "code",
   "execution_count": 15,
   "metadata": {},
   "outputs": [],
   "source": [
    "def freq_gen():\n",
    "    frequent = []\n",
    "    for i in range(NUM_ARTISTS):\n",
    "        conditional = conditional_gen(i)\n",
    "        n = len(conditional)\n",
    "        if n == 0:\n",
    "            continue\n",
    "        for j in range(1, 2 ** n):\n",
    "            patt = []\n",
    "            p = j\n",
    "            for k in range(n):\n",
    "                if p % 2:\n",
    "                    patt.append(conditional[k])\n",
    "                p = int(p / 2)\n",
    "            patt.append(i)\n",
    "            frequent.append(tuple(patt))\n",
    "    return frequent"
   ]
  },
  {
   "cell_type": "markdown",
   "metadata": {},
   "source": [
    "## Mining rules"
   ]
  },
  {
   "cell_type": "code",
   "execution_count": 16,
   "metadata": {},
   "outputs": [],
   "source": [
    "def support(part):\n",
    "    n = len(part)\n",
    "    count = 0\n",
    "    for playlist in sample:\n",
    "        i = 0\n",
    "        for item in playlist:\n",
    "            if item == part[i]:\n",
    "                i += 1\n",
    "            if i == n:\n",
    "                break\n",
    "        if i == n:\n",
    "            count += 1\n",
    "    return count"
   ]
  },
  {
   "cell_type": "code",
   "execution_count": 17,
   "metadata": {},
   "outputs": [],
   "source": [
    "def rule_gen(min_sup, min_con_lif, is_con):\n",
    "    rules = []\n",
    "    frequent = freq_gen()\n",
    "    count = 0\n",
    "    for i in range(len(frequent)):\n",
    "        subset = frequent[i]\n",
    "        n = len(subset)\n",
    "        for j in range(1, (2 ** n) - 1):\n",
    "            left, right = [], []\n",
    "            p = j\n",
    "            for k in range(n):\n",
    "                if p % 2:\n",
    "                    left.append(subset[k])\n",
    "                else:\n",
    "                    right.append(subset[k])\n",
    "                p = int(p / 2)\n",
    "            num, denom = support(subset), support(left)\n",
    "            count += 1\n",
    "            if is_con:\n",
    "                if (not (denom == 0)) and ((num / NUM_PLAYLISTS) >= min_sup) and ((num / denom) >= min_con_lif):\n",
    "                    rules.append((tuple(left), tuple(right), num / NUM_PLAYLISTS, num / denom))\n",
    "            else:\n",
    "                add = support(right)\n",
    "                if (not (denom == 0)) and (not (add == 0)) and ((num / NUM_PLAYLISTS) >= min_sup) and ((num / (denom * add)) >= min_con_lif):\n",
    "                    rules.append((tuple(left), tuple(right), num / NUM_PLAYLISTS, num / (denom * add)))\n",
    "    return rules"
   ]
  },
  {
   "cell_type": "markdown",
   "metadata": {},
   "source": [
    "## Rule generation with minimum confidence"
   ]
  },
  {
   "cell_type": "code",
   "execution_count": 18,
   "metadata": {},
   "outputs": [
    {
     "name": "stdout",
     "output_type": "stream",
     "text": [
      "251\n"
     ]
    }
   ],
   "source": [
    "rules = rule_gen(0.005, 0.3, True)\n",
    "print(len(rules))"
   ]
  },
  {
   "cell_type": "code",
   "execution_count": 19,
   "metadata": {},
   "outputs": [],
   "source": [
    "def view_rules(rules, limit, is_con):\n",
    "    if is_con:\n",
    "        measure = \"Confidence\"\n",
    "    else:\n",
    "        measure = \"Lift\"\n",
    "    limit = min(limit, len(rules))\n",
    "    selected = random.sample(range(len(rules)), limit)\n",
    "    for idx in selected:\n",
    "        rule = rules[idx]\n",
    "        left, right = ', '.join([info[x][\"name\"] for x in rule[0]]), ', '.join([info[x][\"name\"] for x in rule[1]])\n",
    "        print(\"Support = \" + (\"%.3f\" % rule[2]) + \"; \" + measure + \" = \" + (\"%.3f\" % rule[3]) + \"; {\" + left + \"} -> {\" + right + \"}\")"
   ]
  },
  {
   "cell_type": "code",
   "execution_count": 20,
   "metadata": {},
   "outputs": [
    {
     "name": "stdout",
     "output_type": "stream",
     "text": [
      "Support = 0.010; Confidence = 0.333; {Blake Shelton, Tim McGraw} -> {Chris Young}\n",
      "Support = 0.005; Confidence = 0.455; {George Strait, Brooks & Dunn} -> {Eric Church, Justin Moore}\n",
      "Support = 0.008; Confidence = 1.000; {Rihanna, Swedish House Mafia} -> {Calvin Harris, David Guetta}\n",
      "Support = 0.006; Confidence = 1.000; {Drake, SZA, Majid Jordan} -> {The Weeknd}\n",
      "Support = 0.005; Confidence = 1.000; {Justin Moore} -> {Eric Church}\n",
      "Support = 0.009; Confidence = 1.000; {Travis Scott, 21 Savage, Smokepurpp} -> {Post Malone, Lil Uzi Vert}\n",
      "Support = 0.008; Confidence = 1.000; {Brothers Osborne} -> {Luke Bryan}\n",
      "Support = 0.005; Confidence = 1.000; {George Strait, Brooks & Dunn, Justin Moore} -> {Eric Church}\n",
      "Support = 0.008; Confidence = 1.000; {Rihanna, Swedish House Mafia} -> {Calvin Harris}\n",
      "Support = 0.012; Confidence = 0.923; {Metro Boomin} -> {Drake, Lil Uzi Vert, 21 Savage}\n",
      "Support = 0.015; Confidence = 1.000; {Post Malone, Tee Grizzley} -> {21 Savage}\n",
      "Support = 0.008; Confidence = 0.308; {Zac Brown Band, Luke Bryan, Blake Shelton} -> {Brothers Osborne}\n",
      "Support = 0.015; Confidence = 0.938; {Tee Grizzley} -> {Post Malone, 21 Savage}\n",
      "Support = 0.008; Confidence = 1.000; {Swedish House Mafia} -> {David Guetta}\n",
      "Support = 0.009; Confidence = 0.900; {Granger Smith} -> {Jason Aldean}\n",
      "Support = 0.006; Confidence = 1.000; {DJ Drama} -> {Kanye West}\n",
      "Support = 0.009; Confidence = 1.000; {Lil Uzi Vert, 21 Savage, Smokepurpp} -> {Travis Scott}\n",
      "Support = 0.006; Confidence = 1.000; {SZA, Majid Jordan} -> {Drake, The Weeknd}\n",
      "Support = 0.009; Confidence = 0.900; {Daddy Yankee} -> {Don Omar}\n",
      "Support = 0.015; Confidence = 0.938; {21 Savage, Tee Grizzley} -> {Post Malone}\n"
     ]
    }
   ],
   "source": [
    "view_rules(rules, 20, True)"
   ]
  },
  {
   "cell_type": "markdown",
   "metadata": {},
   "source": [
    "## Rule generation with minimum lift"
   ]
  },
  {
   "cell_type": "code",
   "execution_count": 21,
   "metadata": {},
   "outputs": [
    {
     "name": "stdout",
     "output_type": "stream",
     "text": [
      "336\n"
     ]
    }
   ],
   "source": [
    "rules = rule_gen(0.005, 0.01, False)\n",
    "print(len(rules))"
   ]
  },
  {
   "cell_type": "code",
   "execution_count": 22,
   "metadata": {},
   "outputs": [
    {
     "name": "stdout",
     "output_type": "stream",
     "text": [
      "Support = 0.009; Lift = 0.021; {Lil Uzi Vert, 21 Savage} -> {Post Malone, Travis Scott, Smokepurpp}\n",
      "Support = 0.006; Lift = 0.062; {Drake, SZA} -> {Majid Jordan}\n",
      "Support = 0.009; Lift = 0.013; {Lil Uzi Vert, 21 Savage, Smokepurpp} -> {Travis Scott}\n",
      "Support = 0.008; Lift = 0.019; {Zac Brown Band} -> {Luke Bryan, Brothers Osborne}\n",
      "Support = 0.005; Lift = 0.083; {Eric Church, Brooks & Dunn} -> {Justin Moore}\n",
      "Support = 0.009; Lift = 0.017; {21 Savage} -> {Lil Uzi Vert, Smokepurpp}\n",
      "Support = 0.009; Lift = 0.013; {Travis Scott} -> {Post Malone, 21 Savage, Smokepurpp}\n",
      "Support = 0.009; Lift = 0.032; {Travis Scott, 21 Savage} -> {Post Malone, Smokepurpp}\n",
      "Support = 0.009; Lift = 0.013; {Post Malone, Lil Uzi Vert, 21 Savage, Smokepurpp} -> {Travis Scott}\n",
      "Support = 0.010; Lift = 0.028; {Blake Shelton, Tim McGraw} -> {Chris Young}\n",
      "Support = 0.013; Lift = 0.017; {Lil Uzi Vert, Metro Boomin} -> {21 Savage}\n",
      "Support = 0.009; Lift = 0.026; {Travis Scott, Lil Uzi Vert, Smokepurpp} -> {Post Malone, 21 Savage}\n",
      "Support = 0.009; Lift = 0.021; {Lil Uzi Vert, 21 Savage} -> {Travis Scott, Smokepurpp}\n",
      "Support = 0.008; Lift = 0.024; {Luke Bryan, Brothers Osborne} -> {Blake Shelton}\n",
      "Support = 0.016; Lift = 0.016; {Lil Pump} -> {21 Savage}\n",
      "Support = 0.009; Lift = 0.013; {Lil Uzi Vert, Smokepurpp} -> {Travis Scott}\n",
      "Support = 0.013; Lift = 0.013; {21 Savage, Metro Boomin} -> {Lil Uzi Vert}\n",
      "Support = 0.015; Lift = 0.025; {Post Malone, 21 Savage} -> {Tee Grizzley}\n",
      "Support = 0.009; Lift = 0.011; {Travis Scott, 21 Savage, Smokepurpp} -> {Post Malone}\n",
      "Support = 0.008; Lift = 0.023; {Rihanna, Calvin Harris} -> {Swedish House Mafia}\n"
     ]
    }
   ],
   "source": [
    "view_rules(rules, 20, False)"
   ]
  },
  {
   "cell_type": "markdown",
   "metadata": {},
   "source": [
    "## Generating recommendations from association rules"
   ]
  },
  {
   "cell_type": "code",
   "execution_count": 23,
   "metadata": {},
   "outputs": [],
   "source": [
    "def extend(playlist, rules):\n",
    "    additions = []\n",
    "    for rule in rules:\n",
    "        left, right = rule[0], rule[1]\n",
    "        idx = 0\n",
    "        for artist in playlist:\n",
    "            if artist == left[idx]:\n",
    "                idx += 1\n",
    "            if idx == len(left):\n",
    "                break\n",
    "        if idx == len(left):\n",
    "            for artist in right:\n",
    "                if (artist not in playlist) and (artist not in additions):\n",
    "                    additions.append(artist)\n",
    "    playlist.extend(additions)\n",
    "    sorted(playlist)\n",
    "    return playlist"
   ]
  },
  {
   "cell_type": "code",
   "execution_count": 24,
   "metadata": {},
   "outputs": [],
   "source": [
    "def print_playlist(playlist):\n",
    "    for idx, item in enumerate(playlist):\n",
    "        print(f\"{idx + 1}:\\t{info[item]['name']}\")"
   ]
  },
  {
   "cell_type": "code",
   "execution_count": 25,
   "metadata": {},
   "outputs": [
    {
     "name": "stdout",
     "output_type": "stream",
     "text": [
      "1:\tDrake\n",
      "2:\tTravis Scott\n",
      "3:\tFlume\n",
      "4:\tPlayboi Carti\n",
      "5:\tSZA\n"
     ]
    }
   ],
   "source": [
    "sample_playlist = [0, 38, 57, 297, 345]\n",
    "print_playlist(sample_playlist)"
   ]
  },
  {
   "cell_type": "code",
   "execution_count": 26,
   "metadata": {},
   "outputs": [
    {
     "name": "stdout",
     "output_type": "stream",
     "text": [
      "1:\tDrake\n",
      "2:\tTravis Scott\n",
      "3:\tFlume\n",
      "4:\tPlayboi Carti\n",
      "5:\tSZA\n",
      "6:\tSmokepurpp\n",
      "7:\tPost Malone\n",
      "8:\tLil Uzi Vert\n",
      "9:\t21 Savage\n",
      "10:\tMajid Jordan\n",
      "11:\tThe Weeknd\n"
     ]
    }
   ],
   "source": [
    "extended_sample_playlist = extend(sample_playlist, rules)\n",
    "print_playlist(extended_sample_playlist)"
   ]
  },
  {
   "cell_type": "markdown",
   "metadata": {},
   "source": [
    "## Varying hyperparameters"
   ]
  },
  {
   "cell_type": "code",
   "execution_count": 27,
   "metadata": {},
   "outputs": [],
   "source": [
    "import matplotlib.pyplot as plt"
   ]
  },
  {
   "cell_type": "code",
   "execution_count": 28,
   "metadata": {},
   "outputs": [],
   "source": [
    "START_MIN_CON = 0.1\n",
    "END_MIN_CON = 0.5\n",
    "STEP_MIN_CON = 0.05"
   ]
  },
  {
   "cell_type": "code",
   "execution_count": 29,
   "metadata": {},
   "outputs": [
    {
     "name": "stdout",
     "output_type": "stream",
     "text": [
      "[0.1, 0.15000000000000002, 0.2, 0.25, 0.3, 0.35, 0.39999999999999997, 0.44999999999999996, 0.49999999999999994] [383, 346, 313, 287, 251, 242, 237, 228, 220]\n"
     ]
    },
    {
     "data": {
      "image/png": "[encoded data removed]",
      "text/plain": [
       "<Figure size 640x480 with 1 Axes>"
      ]
     },
     "metadata": {},
     "output_type": "display_data"
    }
   ],
   "source": [
    "x, y = [], []\n",
    "min_con = START_MIN_CON\n",
    "while min_con <= END_MIN_CON:\n",
    "    rules = rule_gen(0.005, min_con, True)\n",
    "    x.append(min_con)\n",
    "    y.append(len(rules))\n",
    "    min_con += STEP_MIN_CON\n",
    "plt.plot(x, y)\n",
    "print(x, y)\n",
    "plt.title(\"Variation of number of generated rules with minimum confidence\")\n",
    "plt.xlabel(\"Minimum confidence\")\n",
    "plt.ylabel(\"Number of generated rules\")\n",
    "plt.show()"
   ]
  },
  {
   "cell_type": "code",
   "execution_count": 30,
   "metadata": {},
   "outputs": [],
   "source": [
    "START_MIN_LIF = 0.005\n",
    "END_MIN_LIF = 0.03\n",
    "STEP_MIN_LIF = 0.005"
   ]
  },
  {
   "cell_type": "code",
   "execution_count": 31,
   "metadata": {},
   "outputs": [
    {
     "name": "stdout",
     "output_type": "stream",
     "text": [
      "[0.005, 0.01, 0.015, 0.02, 0.025] [388, 336, 260, 204, 136]\n"
     ]
    },
    {
     "data": {
      "image/png": "[encoded data removed]",
      "text/plain": [
       "<Figure size 640x480 with 1 Axes>"
      ]
     },
     "metadata": {},
     "output_type": "display_data"
    }
   ],
   "source": [
    "x, y = [], []\n",
    "min_lif = START_MIN_LIF\n",
    "while min_lif <= END_MIN_LIF:\n",
    "    rules = rule_gen(0.005, min_lif, False)\n",
    "    x.append(min_lif)\n",
    "    y.append(len(rules))\n",
    "    min_lif += STEP_MIN_LIF\n",
    "plt.plot(x, y)\n",
    "print(x, y)\n",
    "plt.title(\"Variation of number of generated rules with minimum lift\")\n",
    "plt.xlabel(\"Minimum lift\")\n",
    "plt.ylabel(\"Number of generated rules\")\n",
    "plt.show()"
   ]
  }
 ],
 "metadata": {
  "kernelspec": {
   "display_name": "Python 3",
   "language": "python",
   "name": "python3"
  },
  "language_info": {
   "codemirror_mode": {
    "name": "ipython",
    "version": 3
   },
   "file_extension": ".py",
   "mimetype": "text/x-python",
   "name": "python",
   "nbconvert_exporter": "python",
   "pygments_lexer": "ipython3",
   "version": "3.11.2"
  }
 },
 "nbformat": 4,
 "nbformat_minor": 2
}
